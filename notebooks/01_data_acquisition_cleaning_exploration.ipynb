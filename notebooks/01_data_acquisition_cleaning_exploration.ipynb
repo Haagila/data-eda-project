{
 "cells": [
  {
   "cell_type": "markdown",
   "id": "0e2ba28e",
   "metadata": {},
   "source": [
    "# **Exploración de los archivos**"
   ]
  },
  {
   "cell_type": "markdown",
   "id": "4922af66",
   "metadata": {},
   "source": [
    "Importamos los datos"
   ]
  },
  {
   "cell_type": "code",
   "execution_count": 18,
   "id": "b823b049",
   "metadata": {},
   "outputs": [
    {
     "name": "stdout",
     "output_type": "stream",
     "text": [
      "Datos cargados. Primeras filas:\n",
      "Price           Close                                            High       \\\n",
      "Ticker           ARKQ BOTZ      GOOGL       MSFT      NVDA       ARKQ BOTZ   \n",
      "Date                                                                         \n",
      "2015-04-20  18.980328  NaN  27.096951  37.034481  0.532178  19.129559  NaN   \n",
      "2015-04-21  19.008308  NaN  27.016832  36.801449  0.531456  19.026963  NaN   \n",
      "2015-04-22  19.120234  NaN  27.328344  37.103531  0.537478  19.129561  NaN   \n",
      "2015-04-23  19.259203  NaN  27.740372  37.405605  0.535310  19.260135  NaN   \n",
      "2015-04-24  19.165934  NaN  28.546520  41.315315  0.530733  19.165934  NaN   \n",
      "\n",
      "Price                                       ...       Open                  \\\n",
      "Ticker          GOOGL       MSFT      NVDA  ...       ARKQ BOTZ      GOOGL   \n",
      "Date                                        ...                              \n",
      "2015-04-20  27.160150  37.258879  0.540610  ...  19.129559  NaN  26.560516   \n",
      "2015-04-21  27.258179  37.241618  0.538683  ...  19.026963  NaN  27.185526   \n",
      "2015-04-22  27.418911  37.224361  0.538201  ...  18.915041  NaN  27.023801   \n",
      "2015-04-23  27.924990  37.638636  0.540369  ...  19.073597  NaN  27.389550   \n",
      "2015-04-24  29.095894  41.548345  0.535310  ...  19.165934  NaN  28.864500   \n",
      "\n",
      "Price                           Volume                                       \n",
      "Ticker           MSFT      NVDA   ARKQ BOTZ     GOOGL       MSFT       NVDA  \n",
      "Date                                                                         \n",
      "2015-04-20  36.016054  0.537238   1300  NaN  38508000   46057700  231624000  \n",
      "2015-04-21  37.112156  0.538683   1200  NaN  29128000   26013800  230456000  \n",
      "2015-04-22  36.827344  0.534588  35200  NaN  31806000   25064300  207420000  \n",
      "2015-04-23  37.017222  0.527601   1300  NaN  78184000   46309500  259380000  \n",
      "2015-04-24  39.407924  0.535069    200  NaN  92168000  130933700  240960000  \n",
      "\n",
      "[5 rows x 25 columns]\n",
      "\n",
      "Información del DataFrame:\n",
      "<class 'pandas.core.frame.DataFrame'>\n",
      "DatetimeIndex: 2516 entries, 2015-04-20 to 2025-04-17\n",
      "Data columns (total 25 columns):\n",
      " #   Column           Non-Null Count  Dtype  \n",
      "---  ------           --------------  -----  \n",
      " 0   (Close, ARKQ)    2516 non-null   float64\n",
      " 1   (Close, BOTZ)    2162 non-null   float64\n",
      " 2   (Close, GOOGL)   2516 non-null   float64\n",
      " 3   (Close, MSFT)    2516 non-null   float64\n",
      " 4   (Close, NVDA)    2516 non-null   float64\n",
      " 5   (High, ARKQ)     2516 non-null   float64\n",
      " 6   (High, BOTZ)     2162 non-null   float64\n",
      " 7   (High, GOOGL)    2516 non-null   float64\n",
      " 8   (High, MSFT)     2516 non-null   float64\n",
      " 9   (High, NVDA)     2516 non-null   float64\n",
      " 10  (Low, ARKQ)      2516 non-null   float64\n",
      " 11  (Low, BOTZ)      2162 non-null   float64\n",
      " 12  (Low, GOOGL)     2516 non-null   float64\n",
      " 13  (Low, MSFT)      2516 non-null   float64\n",
      " 14  (Low, NVDA)      2516 non-null   float64\n",
      " 15  (Open, ARKQ)     2516 non-null   float64\n",
      " 16  (Open, BOTZ)     2162 non-null   float64\n",
      " 17  (Open, GOOGL)    2516 non-null   float64\n",
      " 18  (Open, MSFT)     2516 non-null   float64\n",
      " 19  (Open, NVDA)     2516 non-null   float64\n",
      " 20  (Volume, ARKQ)   2516 non-null   int64  \n",
      " 21  (Volume, BOTZ)   2162 non-null   float64\n",
      " 22  (Volume, GOOGL)  2516 non-null   int64  \n",
      " 23  (Volume, MSFT)   2516 non-null   int64  \n",
      " 24  (Volume, NVDA)   2516 non-null   int64  \n",
      "dtypes: float64(21), int64(4)\n",
      "memory usage: 511.1 KB\n"
     ]
    }
   ],
   "source": [
    "import pandas as pd\n",
    "\n",
    "# Cargar los datos desde el archivo CSV guardado\n",
    "csv_filepath = '../data/financial_data.csv' # \n",
    "data_raw = pd.read_csv(csv_filepath, header=[0, 1], index_col=0, parse_dates=True)\n",
    "\n",
    "print(\"Datos cargados. Primeras filas:\")\n",
    "print(data_raw.head())\n",
    "print(\"\\nInformación del DataFrame:\")\n",
    "data_raw.info()"
   ]
  },
  {
   "cell_type": "markdown",
   "id": "1f8df038",
   "metadata": {},
   "source": [
    "# **Limpieza de Datos**"
   ]
  },
  {
   "cell_type": "markdown",
   "id": "6614c46d",
   "metadata": {},
   "source": [
    "## *Inspección y conteo de valores nulos*"
   ]
  },
  {
   "cell_type": "code",
   "execution_count": 19,
   "id": "37e12759",
   "metadata": {},
   "outputs": [
    {
     "name": "stdout",
     "output_type": "stream",
     "text": [
      "\n",
      "Conteo de valores nulos por columna:\n",
      "Price   Ticker\n",
      "Close   ARKQ        0\n",
      "        BOTZ      354\n",
      "        GOOGL       0\n",
      "        MSFT        0\n",
      "        NVDA        0\n",
      "High    ARKQ        0\n",
      "        BOTZ      354\n",
      "        GOOGL       0\n",
      "        MSFT        0\n",
      "        NVDA        0\n",
      "Low     ARKQ        0\n",
      "        BOTZ      354\n",
      "        GOOGL       0\n",
      "        MSFT        0\n",
      "        NVDA        0\n",
      "Open    ARKQ        0\n",
      "        BOTZ      354\n",
      "        GOOGL       0\n",
      "        MSFT        0\n",
      "        NVDA        0\n",
      "Volume  ARKQ        0\n",
      "        BOTZ      354\n",
      "        GOOGL       0\n",
      "        MSFT        0\n",
      "        NVDA        0\n",
      "dtype: int64\n"
     ]
    }
   ],
   "source": [
    "print(\"\\nConteo de valores nulos por columna:\")\n",
    "print(data_raw.isnull().sum())\n",
    "#Revisamos los datos nulos"
   ]
  },
  {
   "cell_type": "markdown",
   "id": "1df7a6a4",
   "metadata": {},
   "source": [
    "## *Limpieza y Rellenado de valores nulos*"
   ]
  },
  {
   "cell_type": "code",
   "execution_count": null,
   "id": "e189d4ef",
   "metadata": {},
   "outputs": [
    {
     "name": "stdout",
     "output_type": "stream",
     "text": [
      "\n",
      "Información del DataFrame limpio después de ffill:\n",
      "<class 'pandas.core.frame.DataFrame'>\n",
      "DatetimeIndex: 2516 entries, 2015-04-20 to 2025-04-17\n",
      "Data columns (total 25 columns):\n",
      " #   Column           Non-Null Count  Dtype  \n",
      "---  ------           --------------  -----  \n",
      " 0   (Close, ARKQ)    2516 non-null   float64\n",
      " 1   (Close, BOTZ)    2162 non-null   float64\n",
      " 2   (Close, GOOGL)   2516 non-null   float64\n",
      " 3   (Close, MSFT)    2516 non-null   float64\n",
      " 4   (Close, NVDA)    2516 non-null   float64\n",
      " 5   (High, ARKQ)     2516 non-null   float64\n",
      " 6   (High, BOTZ)     2162 non-null   float64\n",
      " 7   (High, GOOGL)    2516 non-null   float64\n",
      " 8   (High, MSFT)     2516 non-null   float64\n",
      " 9   (High, NVDA)     2516 non-null   float64\n",
      " 10  (Low, ARKQ)      2516 non-null   float64\n",
      " 11  (Low, BOTZ)      2162 non-null   float64\n",
      " 12  (Low, GOOGL)     2516 non-null   float64\n",
      " 13  (Low, MSFT)      2516 non-null   float64\n",
      " 14  (Low, NVDA)      2516 non-null   float64\n",
      " 15  (Open, ARKQ)     2516 non-null   float64\n",
      " 16  (Open, BOTZ)     2162 non-null   float64\n",
      " 17  (Open, GOOGL)    2516 non-null   float64\n",
      " 18  (Open, MSFT)     2516 non-null   float64\n",
      " 19  (Open, NVDA)     2516 non-null   float64\n",
      " 20  (Volume, ARKQ)   2516 non-null   int64  \n",
      " 21  (Volume, BOTZ)   2162 non-null   float64\n",
      " 22  (Volume, GOOGL)  2516 non-null   int64  \n",
      " 23  (Volume, MSFT)   2516 non-null   int64  \n",
      " 24  (Volume, NVDA)   2516 non-null   int64  \n",
      "dtypes: float64(21), int64(4)\n",
      "memory usage: 511.1 KB\n",
      "\n",
      "Conteo de valores nulos después de ffill:\n",
      "Price   Ticker\n",
      "Close   ARKQ        0\n",
      "        BOTZ      354\n",
      "        GOOGL       0\n",
      "        MSFT        0\n",
      "        NVDA        0\n",
      "High    ARKQ        0\n",
      "        BOTZ      354\n",
      "        GOOGL       0\n",
      "        MSFT        0\n",
      "        NVDA        0\n",
      "Low     ARKQ        0\n",
      "        BOTZ      354\n",
      "        GOOGL       0\n",
      "        MSFT        0\n",
      "        NVDA        0\n",
      "Open    ARKQ        0\n",
      "        BOTZ      354\n",
      "        GOOGL       0\n",
      "        MSFT        0\n",
      "        NVDA        0\n",
      "Volume  ARKQ        0\n",
      "        BOTZ      354\n",
      "        GOOGL       0\n",
      "        MSFT        0\n",
      "        NVDA        0\n",
      "dtype: int64\n"
     ]
    }
   ],
   "source": [
    "# Aplicar forward fill para rellenar NaNs con el último valor válido conocido\n",
    "data_cleaned = data_raw.ffill()\n",
    "\n",
    "print(\"\\nInformación del DataFrame limpio después de ffill:\")\n",
    "data_cleaned.info()\n",
    "print(\"\\nConteo de valores nulos después de ffill:\")\n",
    "print(data_cleaned.isnull().sum()) "
   ]
  },
  {
   "cell_type": "markdown",
   "id": "60aac6ff",
   "metadata": {},
   "source": [
    "## *Guardamos el resultado de la limpieza*"
   ]
  },
  {
   "cell_type": "code",
   "execution_count": null,
   "id": "165fd610",
   "metadata": {},
   "outputs": [
    {
     "name": "stdout",
     "output_type": "stream",
     "text": [
      "\n",
      "Datos limpios guardados en: ../data/processed\\ai_stocks_historical_data_cleaned.parquet\n"
     ]
    }
   ],
   "source": [
    "processed_data_dir = '../data/processed'\n",
    "if not os.path.exists(processed_data_dir):\n",
    "    os.makedirs(processed_data_dir)\n",
    "    print(f\"Carpeta '{processed_data_dir}' creada.\")\n",
    "\n",
    "# Defimos la ruta para guardar el archivo limpio\n",
    "cleaned_parquet_filepath = os.path.join(processed_data_dir, 'ai_stocks_historical_data_cleaned.parquet')\n",
    "\n",
    "# Guardamos el DataFrame limpio en formato Parquet\n",
    "data_cleaned.to_parquet(cleaned_parquet_filepath)\n",
    "\n",
    "print(f\"\\nDatos limpios guardados en: {cleaned_parquet_filepath}\")"
   ]
  }
 ],
 "metadata": {
  "kernelspec": {
   "display_name": "Python 3",
   "language": "python",
   "name": "python3"
  },
  "language_info": {
   "codemirror_mode": {
    "name": "ipython",
    "version": 3
   },
   "file_extension": ".py",
   "mimetype": "text/x-python",
   "name": "python",
   "nbconvert_exporter": "python",
   "pygments_lexer": "ipython3",
   "version": "3.13.3"
  }
 },
 "nbformat": 4,
 "nbformat_minor": 5
}
